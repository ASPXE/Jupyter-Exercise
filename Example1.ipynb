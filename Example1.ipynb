{
 "cells": [
  {
   "cell_type": "markdown",
   "source": [
    "This notebook shows you how Decision Optimization can help to prescribe decisions for a complex constrained problem using CPLEX Modeling for Python to help determine the optimal location for a new store. This notebook requires the Commercial Edition of CPLEX engines, which is included in the latest Python XS + DO environment in Watson Studio.\n"
   ],
   "metadata": {
    "collapsed": false
   }
  },
  {
   "cell_type": "code",
   "execution_count": 78,
   "metadata": {
    "collapsed": true,
    "ExecuteTime": {
     "start_time": "2024-08-01T19:38:16.321400Z",
     "end_time": "2024-08-01T19:38:16.354038Z"
    }
   },
   "outputs": [],
   "source": [
    "import sys\n",
    "import docplex.mp"
   ]
  },
  {
   "cell_type": "code",
   "execution_count": 79,
   "outputs": [],
   "source": [
    "# Store longitude, latitude and street crossing name of each public library location.\n",
    "class XPoint(object):\n",
    "    def __init__(self, x, y):\n",
    "        self.x = x\n",
    "        self.y = y\n",
    "    def __str__(self):\n",
    "        return \"P(%g_%g)\" % (self.x, self.y)\n",
    "\n",
    "class NamedPoint(XPoint):\n",
    "    def __init__(self, name, x, y):\n",
    "        XPoint.__init__(self, x, y)\n",
    "        self.name = name\n",
    "    def __str__(self):\n",
    "        return self.name"
   ],
   "metadata": {
    "collapsed": false,
    "ExecuteTime": {
     "start_time": "2024-08-01T19:38:16.369730Z",
     "end_time": "2024-08-01T19:38:16.413313Z"
    }
   }
  },
  {
   "cell_type": "code",
   "execution_count": 80,
   "outputs": [],
   "source": [
    "try:\n",
    "    import geopy.distance\n",
    "except:\n",
    "    if hasattr(sys, 'real_prefix'):\n",
    "        #we are in a virtual env.\n",
    "        !pip install geopy\n",
    "    else:\n",
    "        !pip install --user geopy"
   ],
   "metadata": {
    "collapsed": false,
    "ExecuteTime": {
     "start_time": "2024-08-01T19:38:16.380993Z",
     "end_time": "2024-08-01T19:38:16.413758Z"
    }
   }
  },
  {
   "cell_type": "code",
   "execution_count": 81,
   "outputs": [],
   "source": [
    "# Simple distance computation between 2 locations.\n",
    "from geopy.distance import great_circle\n",
    "\n",
    "def get_distance(p1, p2):\n",
    "    return great_circle((p1.y, p1.x), (p2.y, p2.x)).miles"
   ],
   "metadata": {
    "collapsed": false,
    "ExecuteTime": {
     "start_time": "2024-08-01T19:38:16.394046Z",
     "end_time": "2024-08-01T19:38:16.414107Z"
    }
   }
  },
  {
   "cell_type": "code",
   "execution_count": 82,
   "outputs": [],
   "source": [
    "def build_libraries_from_url(url, name_pos, lat_long_pos):\n",
    "    import requests\n",
    "    import json\n",
    "\n",
    "    r = requests.get(url)\n",
    "    myjson = json.loads(r.text, parse_constant='utf-8')\n",
    "    myjson = myjson['data']\n",
    "\n",
    "    libraries = []\n",
    "    k = 1\n",
    "    for location in myjson:\n",
    "        uname = location[name_pos]\n",
    "        try:\n",
    "            latitude = float(location[lat_long_pos][1])\n",
    "            longitude = float(location[lat_long_pos][2])\n",
    "        except TypeError:\n",
    "            latitude = longitude = None\n",
    "        try:\n",
    "            name = str(uname)\n",
    "        except:\n",
    "            name = \"???\"\n",
    "        name = \"P_%s_%d\" % (name, k)\n",
    "        if latitude and longitude:\n",
    "            cp = NamedPoint(name, longitude, latitude)\n",
    "            libraries.append(cp)\n",
    "            k += 1\n",
    "    return libraries"
   ],
   "metadata": {
    "collapsed": false,
    "ExecuteTime": {
     "start_time": "2024-08-01T19:38:16.399890Z",
     "end_time": "2024-08-01T19:38:16.414396Z"
    }
   }
  },
  {
   "cell_type": "code",
   "execution_count": 83,
   "outputs": [],
   "source": [
    "\n",
    "\n",
    "libraries = build_libraries_from_url('https://data.cityofchicago.org/api/views/x8fc-8rcq/rows.json?accessType=DOWNLOAD',\n",
    "                                   name_pos=10,\n",
    "                                   lat_long_pos=16)\n",
    "\n"
   ],
   "metadata": {
    "collapsed": false,
    "ExecuteTime": {
     "start_time": "2024-08-01T19:38:16.416912Z",
     "end_time": "2024-08-01T19:38:17.083204Z"
    }
   }
  },
  {
   "cell_type": "code",
   "execution_count": 84,
   "outputs": [
    {
     "name": "stdout",
     "output_type": "stream",
     "text": [
      "There are 81 public libraries in Chicago\n"
     ]
    }
   ],
   "source": [
    "print(\"There are %d public libraries in Chicago\" % (len(libraries)))"
   ],
   "metadata": {
    "collapsed": false,
    "ExecuteTime": {
     "start_time": "2024-08-01T19:38:17.083566Z",
     "end_time": "2024-08-01T19:38:17.089796Z"
    }
   }
  },
  {
   "cell_type": "code",
   "execution_count": 85,
   "outputs": [
    {
     "name": "stdout",
     "output_type": "stream",
     "text": [
      "We would like to open 5 coffee shops\n"
     ]
    }
   ],
   "source": [
    "nb_shops = 5\n",
    "print(\"We would like to open %d coffee shops\" % nb_shops)"
   ],
   "metadata": {
    "collapsed": false,
    "ExecuteTime": {
     "start_time": "2024-08-01T19:38:17.091375Z",
     "end_time": "2024-08-01T19:38:17.098751Z"
    }
   }
  },
  {
   "cell_type": "code",
   "execution_count": 86,
   "outputs": [],
   "source": [
    "try:\n",
    "    import folium\n",
    "except:\n",
    "    if hasattr(sys, 'real_prefix'):\n",
    "        #we are in a virtual env.\n",
    "        !pip install folium\n",
    "    else:\n",
    "        !pip install folium\n"
   ],
   "metadata": {
    "collapsed": false,
    "ExecuteTime": {
     "start_time": "2024-08-01T19:38:17.099484Z",
     "end_time": "2024-08-01T19:38:17.189088Z"
    }
   }
  },
  {
   "cell_type": "code",
   "execution_count": 87,
   "outputs": [
    {
     "data": {
      "text/plain": "<folium.folium.Map at 0x7f9cddddc750>",
      "text/html": "<div style=\"width:100%;\"><div style=\"position:relative;width:100%;height:0;padding-bottom:60%;\"><span style=\"color:#565656\">Make this Notebook Trusted to load map: File -> Trust Notebook</span><iframe srcdoc=\"&lt;!DOCTYPE html&gt;\n&lt;html&gt;\n&lt;head&gt;\n    \n    &lt;meta http-equiv=&quot;content-type&quot; content=&quot;text/html; charset=UTF-8&quot; /&gt;\n    \n        &lt;script&gt;\n            L_NO_TOUCH = false;\n            L_DISABLE_3D = false;\n        &lt;/script&gt;\n    \n    &lt;style&gt;html, body {width: 100%;height: 100%;margin: 0;padding: 0;}&lt;/style&gt;\n    &lt;style&gt;#map {position:absolute;top:0;bottom:0;right:0;left:0;}&lt;/style&gt;\n    &lt;script src=&quot;https://cdn.jsdelivr.net/npm/leaflet@1.9.3/dist/leaflet.js&quot;&gt;&lt;/script&gt;\n    &lt;script src=&quot;https://code.jquery.com/jquery-3.7.1.min.js&quot;&gt;&lt;/script&gt;\n    &lt;script src=&quot;https://cdn.jsdelivr.net/npm/bootstrap@5.2.2/dist/js/bootstrap.bundle.min.js&quot;&gt;&lt;/script&gt;\n    &lt;script src=&quot;https://cdnjs.cloudflare.com/ajax/libs/Leaflet.awesome-markers/2.0.2/leaflet.awesome-markers.js&quot;&gt;&lt;/script&gt;\n    &lt;link rel=&quot;stylesheet&quot; href=&quot;https://cdn.jsdelivr.net/npm/leaflet@1.9.3/dist/leaflet.css&quot;/&gt;\n    &lt;link rel=&quot;stylesheet&quot; href=&quot;https://cdn.jsdelivr.net/npm/bootstrap@5.2.2/dist/css/bootstrap.min.css&quot;/&gt;\n    &lt;link rel=&quot;stylesheet&quot; href=&quot;https://netdna.bootstrapcdn.com/bootstrap/3.0.0/css/bootstrap-glyphicons.css&quot;/&gt;\n    &lt;link rel=&quot;stylesheet&quot; href=&quot;https://cdn.jsdelivr.net/npm/@fortawesome/fontawesome-free@6.2.0/css/all.min.css&quot;/&gt;\n    &lt;link rel=&quot;stylesheet&quot; href=&quot;https://cdnjs.cloudflare.com/ajax/libs/Leaflet.awesome-markers/2.0.2/leaflet.awesome-markers.css&quot;/&gt;\n    &lt;link rel=&quot;stylesheet&quot; href=&quot;https://cdn.jsdelivr.net/gh/python-visualization/folium/folium/templates/leaflet.awesome.rotate.min.css&quot;/&gt;\n    \n            &lt;meta name=&quot;viewport&quot; content=&quot;width=device-width,\n                initial-scale=1.0, maximum-scale=1.0, user-scalable=no&quot; /&gt;\n            &lt;style&gt;\n                #map_ea53820548d44f30b0b45dbdf1e017bc {\n                    position: relative;\n                    width: 100.0%;\n                    height: 100.0%;\n                    left: 0.0%;\n                    top: 0.0%;\n                }\n                .leaflet-container { font-size: 1rem; }\n            &lt;/style&gt;\n        \n&lt;/head&gt;\n&lt;body&gt;\n    \n    \n            &lt;div class=&quot;folium-map&quot; id=&quot;map_ea53820548d44f30b0b45dbdf1e017bc&quot; &gt;&lt;/div&gt;\n        \n&lt;/body&gt;\n&lt;script&gt;\n    \n    \n            var map_ea53820548d44f30b0b45dbdf1e017bc = L.map(\n                &quot;map_ea53820548d44f30b0b45dbdf1e017bc&quot;,\n                {\n                    center: [41.878, -87.629],\n                    crs: L.CRS.EPSG3857,\n                    zoom: 11,\n                    zoomControl: true,\n                    preferCanvas: false,\n                }\n            );\n\n            \n\n        \n    \n            var tile_layer_086b25947a623532e5cda5ba0693b40e = L.tileLayer(\n                &quot;https://tile.openstreetmap.org/{z}/{x}/{y}.png&quot;,\n                {&quot;attribution&quot;: &quot;\\u0026copy; \\u003ca href=\\&quot;https://www.openstreetmap.org/copyright\\&quot;\\u003eOpenStreetMap\\u003c/a\\u003e contributors&quot;, &quot;detectRetina&quot;: false, &quot;maxNativeZoom&quot;: 19, &quot;maxZoom&quot;: 19, &quot;minZoom&quot;: 0, &quot;noWrap&quot;: false, &quot;opacity&quot;: 1, &quot;subdomains&quot;: &quot;abc&quot;, &quot;tms&quot;: false}\n            );\n        \n    \n            tile_layer_086b25947a623532e5cda5ba0693b40e.addTo(map_ea53820548d44f30b0b45dbdf1e017bc);\n        \n    \n            var marker_0a1bb42a712987c08a83bacce250d6f0 = L.marker(\n                [41.70283443594318, -87.61428978448026],\n                {}\n            ).addTo(map_ea53820548d44f30b0b45dbdf1e017bc);\n        \n    \n            var marker_edadae8783418f5c5f9ef224c14edc92 = L.marker(\n                [41.97557881655979, -87.71361314512697],\n                {}\n            ).addTo(map_ea53820548d44f30b0b45dbdf1e017bc);\n        \n    \n            var marker_99f15608f2da126362fdea641813893f = L.marker(\n                [41.746393038286826, -87.5860053710736],\n                {}\n            ).addTo(map_ea53820548d44f30b0b45dbdf1e017bc);\n        \n    \n            var marker_e519273c4de6ab38ee6c749338ae3843 = L.marker(\n                [41.73244482025524, -87.65772892721816],\n                {}\n            ).addTo(map_ea53820548d44f30b0b45dbdf1e017bc);\n        \n    \n            var marker_0405e5ed320491a02ba7a34fca261321 = L.marker(\n                [41.897484072390675, -87.62337776811282],\n                {}\n            ).addTo(map_ea53820548d44f30b0b45dbdf1e017bc);\n        \n    \n            var marker_3e05989d2f27d98fd7c0bc78ce87a232 = L.marker(\n                [41.86946341218242, -87.66072612668584],\n                {}\n            ).addTo(map_ea53820548d44f30b0b45dbdf1e017bc);\n        \n    \n            var marker_54d340c4cd06ed1408f7a2370a076f0e = L.marker(\n                [41.997213372156295, -87.76211751799003],\n                {}\n            ).addTo(map_ea53820548d44f30b0b45dbdf1e017bc);\n        \n    \n            var marker_5e13e2c379f8d522f50c3931d0371081 = L.marker(\n                [41.78202569697298, -87.63738794358196],\n                {}\n            ).addTo(map_ea53820548d44f30b0b45dbdf1e017bc);\n        \n    \n            var marker_9495113e825004750d120e7086f3433f = L.marker(\n                [41.99095923823291, -87.660442745415],\n                {}\n            ).addTo(map_ea53820548d44f30b0b45dbdf1e017bc);\n        \n    \n            var marker_aef7d0d99ee68aca3472b42f88521fbb = L.marker(\n                [41.909444834238485, -87.76898326931509],\n                {}\n            ).addTo(map_ea53820548d44f30b0b45dbdf1e017bc);\n        \n    \n            var marker_0911a4f0faa4723143600bb826f2693b = L.marker(\n                [41.81634394084193, -87.64256827550598],\n                {}\n            ).addTo(map_ea53820548d44f30b0b45dbdf1e017bc);\n        \n    \n            var marker_61dbbefacc97475b0fab39b7911bba5e = L.marker(\n                [41.8327976771251, -87.64629980794813],\n                {}\n            ).addTo(map_ea53820548d44f30b0b45dbdf1e017bc);\n        \n    \n            var marker_34f491b0e9153ee17998b3e149277429 = L.marker(\n                [41.88108555559726, -87.67923504553734],\n                {}\n            ).addTo(map_ea53820548d44f30b0b45dbdf1e017bc);\n        \n    \n            var marker_acb7fd34004a343d7dbf37d15302b039 = L.marker(\n                [41.93883597361448, -87.75467117455794],\n                {}\n            ).addTo(map_ea53820548d44f30b0b45dbdf1e017bc);\n        \n    \n            var marker_9d9d0aba198d4c003255b479bc9c0eb5 = L.marker(\n                [41.7510184591363, -87.61495065361933],\n                {}\n            ).addTo(map_ea53820548d44f30b0b45dbdf1e017bc);\n        \n    \n            var marker_346e8d7a72a6cb1a7ee63ba592387c7a = L.marker(\n                [41.76239541819689, -87.60051216643727],\n                {}\n            ).addTo(map_ea53820548d44f30b0b45dbdf1e017bc);\n        \n    \n            var marker_18ef4b0af91ccfe5dc243e963e475535 = L.marker(\n                [41.74928543110801, -87.72440869132882],\n                {}\n            ).addTo(map_ea53820548d44f30b0b45dbdf1e017bc);\n        \n    \n            var marker_22ab36f45f8d36253fafe46eb1c75e74 = L.marker(\n                [41.65719847558056, -87.59883829075173],\n                {}\n            ).addTo(map_ea53820548d44f30b0b45dbdf1e017bc);\n        \n    \n            var marker_7d08297c28fc2cdf8b8b377093f0c585 = L.marker(\n                [41.77875389246921, -87.72374295317714],\n                {}\n            ).addTo(map_ea53820548d44f30b0b45dbdf1e017bc);\n        \n    \n            var marker_f6aec5af95889c5bfda7f25f36360697 = L.marker(\n                [41.808384423666354, -87.67756963874196],\n                {}\n            ).addTo(map_ea53820548d44f30b0b45dbdf1e017bc);\n        \n    \n            var marker_c949c6a1d63d6a41b192f85efae2dedb = L.marker(\n                [42.00682227244734, -87.67330813329413],\n                {}\n            ).addTo(map_ea53820548d44f30b0b45dbdf1e017bc);\n        \n    \n            var marker_c2deaaa851f3c1f23462e764e5660951 = L.marker(\n                [41.792915800399726, -87.78013459023622],\n                {}\n            ).addTo(map_ea53820548d44f30b0b45dbdf1e017bc);\n        \n    \n            var marker_e4827ce02b71cd3231cf5b729a8f709f = L.marker(\n                [41.83175130060517, -87.61747228078738],\n                {}\n            ).addTo(map_ea53820548d44f30b0b45dbdf1e017bc);\n        \n    \n            var marker_61b736a79b00f1c501f855f22642225e = L.marker(\n                [41.69198346617567, -87.6739093032301],\n                {}\n            ).addTo(map_ea53820548d44f30b0b45dbdf1e017bc);\n        \n    \n            var marker_a299f2886ac5a9a632581054b5e36da6 = L.marker(\n                [41.894726658545295, -87.7063841773407],\n                {}\n            ).addTo(map_ea53820548d44f30b0b45dbdf1e017bc);\n        \n    \n            var marker_da41eb35b3f412f4099129660e67fa00 = L.marker(\n                [41.910332307504966, -87.70551941016132],\n                {}\n            ).addTo(map_ea53820548d44f30b0b45dbdf1e017bc);\n        \n    \n            var marker_9d8cc1b6e8063028c8cd3bdb9ec91d06 = L.marker(\n                [41.962966859427524, -87.68469465366664],\n                {}\n            ).addTo(map_ea53820548d44f30b0b45dbdf1e017bc);\n        \n    \n            var marker_cffc3ed12af70a368200dc29efb90ac1 = L.marker(\n                [41.80549277198318, -87.58923748614112],\n                {}\n            ).addTo(map_ea53820548d44f30b0b45dbdf1e017bc);\n        \n    \n            var marker_91d49737bf9b94ace675e23c78cd2633 = L.marker(\n                [41.90989766464456, -87.73376822625004],\n                {}\n            ).addTo(map_ea53820548d44f30b0b45dbdf1e017bc);\n        \n    \n            var marker_a173c0ae474fc3f0175e486ab382961b = L.marker(\n                [41.89594730478282, -87.66829305460979],\n                {}\n            ).addTo(map_ea53820548d44f30b0b45dbdf1e017bc);\n        \n    \n            var marker_798b0ef6f72452057f12b3ead2618868 = L.marker(\n                [41.98369797603738, -87.69631576617253],\n                {}\n            ).addTo(map_ea53820548d44f30b0b45dbdf1e017bc);\n        \n    \n            var marker_e99266444482f8aea4c029c7d232704f = L.marker(\n                [41.92540663614013, -87.65806218385674],\n                {}\n            ).addTo(map_ea53820548d44f30b0b45dbdf1e017bc);\n        \n    \n            var marker_0dcbfb04ff6af73eb6e18782e0ff6c34 = L.marker(\n                [41.77928203936906, -87.66843344429459],\n                {}\n            ).addTo(map_ea53820548d44f30b0b45dbdf1e017bc);\n        \n    \n            var marker_8e9632d13bcddf487beb67b9329f0d1b = L.marker(\n                [41.80110836194246, -87.72648385568911],\n                {}\n            ).addTo(map_ea53820548d44f30b0b45dbdf1e017bc);\n        \n    \n            var marker_65c16801bd25118bfe9e83a592056168 = L.marker(\n                [41.65927659861025, -87.54881978393514],\n                {}\n            ).addTo(map_ea53820548d44f30b0b45dbdf1e017bc);\n        \n    \n            var marker_8e35ac442ec45eb25ff2c9484f9ba668 = L.marker(\n                [41.95413885986087, -87.7200155607629],\n                {}\n            ).addTo(map_ea53820548d44f30b0b45dbdf1e017bc);\n        \n    \n            var marker_9ec55829b6f798597a9662911ccc01c5 = L.marker(\n                [41.857601233304614, -87.66116376475367],\n                {}\n            ).addTo(map_ea53820548d44f30b0b45dbdf1e017bc);\n        \n    \n            var marker_8cd51ce7dfa13f7582dac3027fbd48f2 = L.marker(\n                [41.76254141905116, -87.56387694448408],\n                {}\n            ).addTo(map_ea53820548d44f30b0b45dbdf1e017bc);\n        \n    \n            var marker_3aade44b38bc904551082761b2d01971 = L.marker(\n                [41.85412074173438, -87.63195792246246],\n                {}\n            ).addTo(map_ea53820548d44f30b0b45dbdf1e017bc);\n        \n    \n            var marker_8f436ee4af21e8e56fd3cecc8e3ed6cc = L.marker(\n                [41.86441239309047, -87.71017465670012],\n                {}\n            ).addTo(map_ea53820548d44f30b0b45dbdf1e017bc);\n        \n    \n            var marker_02770926d0775ecc921c7e54a1a3086d = L.marker(\n                [41.924860376546214, -87.7035190503226],\n                {}\n            ).addTo(map_ea53820548d44f30b0b45dbdf1e017bc);\n        \n    \n            var marker_784b8bb61c7c70901d9741911e23f881 = L.marker(\n                [41.99199760467718, -87.79820642998901],\n                {}\n            ).addTo(map_ea53820548d44f30b0b45dbdf1e017bc);\n        \n    \n            var marker_d4130a299125ac8a2ca468b20452b367 = L.marker(\n                [41.9210332601157, -87.79791005523576],\n                {}\n            ).addTo(map_ea53820548d44f30b0b45dbdf1e017bc);\n        \n    \n            var marker_527581a8ae6ba32f88b1362764352a46 = L.marker(\n                [41.9366521886413, -87.78602401236114],\n                {}\n            ).addTo(map_ea53820548d44f30b0b45dbdf1e017bc);\n        \n    \n            var marker_faa55cbd68d65bbb1591d1d2552571b1 = L.marker(\n                [41.91235487836141, -87.68029967133904],\n                {}\n            ).addTo(map_ea53820548d44f30b0b45dbdf1e017bc);\n        \n    \n            var marker_b1a6e3799a5bef54e5996d9dfc3817a5 = L.marker(\n                [42.00507612272344, -87.69021903022175],\n                {}\n            ).addTo(map_ea53820548d44f30b0b45dbdf1e017bc);\n        \n    \n            var marker_4b1c0730478e782dc84f40099aab0fe9 = L.marker(\n                [41.940131637508564, -87.64602857926714],\n                {}\n            ).addTo(map_ea53820548d44f30b0b45dbdf1e017bc);\n        \n    \n            var marker_379af41eda17a8651cd7f4c2a6177181 = L.marker(\n                [41.67790647382097, -87.6431683153105],\n                {}\n            ).addTo(map_ea53820548d44f30b0b45dbdf1e017bc);\n        \n    \n            var marker_c5640de701ea61408a83b4be647d9255 = L.marker(\n                [41.72118978926962, -87.67214620967468],\n                {}\n            ).addTo(map_ea53820548d44f30b0b45dbdf1e017bc);\n        \n    \n            var marker_18975266be1d32515b023b8160c4aee0 = L.marker(\n                [41.87934542742433, -87.72547641315548],\n                {}\n            ).addTo(map_ea53820548d44f30b0b45dbdf1e017bc);\n        \n    \n            var marker_372a9beda7594e3c1d210d759a8b1598 = L.marker(\n                [41.757343880012456, -87.6540643783153],\n                {}\n            ).addTo(map_ea53820548d44f30b0b45dbdf1e017bc);\n        \n    \n            var marker_1fc3a563837f4f8e88263b35979dfd2c = L.marker(\n                [41.88917312206642, -87.7658203582574],\n                {}\n            ).addTo(map_ea53820548d44f30b0b45dbdf1e017bc);\n        \n    \n            var marker_4b927e4c76e5038e033e2f94e64a0d88 = L.marker(\n                [41.73795704970435, -87.70221598421591],\n                {}\n            ).addTo(map_ea53820548d44f30b0b45dbdf1e017bc);\n        \n    \n            var marker_4e6c0653039ef36aaae4e08a6485fb4f = L.marker(\n                [41.96750826032374, -87.76176748220928],\n                {}\n            ).addTo(map_ea53820548d44f30b0b45dbdf1e017bc);\n        \n    \n            var marker_3cc19c69d1313baf3ef769b1b9a281c2 = L.marker(\n                [41.83030074817219, -87.67349098124289],\n                {}\n            ).addTo(map_ea53820548d44f30b0b45dbdf1e017bc);\n        \n    \n            var marker_5b8e78c516a061964e79155f927f83c9 = L.marker(\n                [41.73029771500594, -87.54972658730712],\n                {}\n            ).addTo(map_ea53820548d44f30b0b45dbdf1e017bc);\n        \n    \n            var marker_86a1f39688cc3b10a5fa943723b5e997 = L.marker(\n                [41.776652677565934, -87.78218757614671],\n                {}\n            ).addTo(map_ea53820548d44f30b0b45dbdf1e017bc);\n        \n    \n            var marker_ed11a95c555ef2723893dc44392cdd76 = L.marker(\n                [41.693015814018004, -87.70102477600602],\n                {}\n            ).addTo(map_ea53820548d44f30b0b45dbdf1e017bc);\n        \n    \n            var marker_9bebfad66e4b026e71e639e555bf56f6 = L.marker(\n                [41.842086096760674, -87.72463965526215],\n                {}\n            ).addTo(map_ea53820548d44f30b0b45dbdf1e017bc);\n        \n    \n            var marker_5796dc3a58b508e995ba6c898bd4e66f = L.marker(\n                [41.7819767986214, -87.7033680880769],\n                {}\n            ).addTo(map_ea53820548d44f30b0b45dbdf1e017bc);\n        \n    \n            var marker_845fd6ca615ab22f26072baa7c5f5a22 = L.marker(\n                [41.87686252958797, -87.62779697013237],\n                {}\n            ).addTo(map_ea53820548d44f30b0b45dbdf1e017bc);\n        \n    \n            var marker_e0ef8f641881b553adbc7338d9ba342e = L.marker(\n                [41.81516027827089, -87.70273371160454],\n                {}\n            ).addTo(map_ea53820548d44f30b0b45dbdf1e017bc);\n        \n    \n            var marker_4a592c5222a4ff0f8fbc90ce0e752bf1 = L.marker(\n                [41.8950961032908, -87.74806072822989],\n                {}\n            ).addTo(map_ea53820548d44f30b0b45dbdf1e017bc);\n        \n    \n            var marker_f2f78f34867bcedfd72baa0782519b3a = L.marker(\n                [41.84959155873184, -87.70504118331108],\n                {}\n            ).addTo(map_ea53820548d44f30b0b45dbdf1e017bc);\n        \n    \n            var marker_36fdd99575d7748a48dbefcd2c55aa0c = L.marker(\n                [41.94046531149621, -87.67102536129381],\n                {}\n            ).addTo(map_ea53820548d44f30b0b45dbdf1e017bc);\n        \n    \n            var marker_9957c311cac400018cb8ce99e63a9f8e = L.marker(\n                [41.79357525220078, -87.69413004003073],\n                {}\n            ).addTo(map_ea53820548d44f30b0b45dbdf1e017bc);\n        \n    \n            var marker_f404922c469c7bc451be63ff859fa127 = L.marker(\n                [41.978098111742476, -87.81420029973704],\n                {}\n            ).addTo(map_ea53820548d44f30b0b45dbdf1e017bc);\n        \n    \n            var marker_9bd6331ceb72843b692522bb6b8a3685 = L.marker(\n                [41.94319949471892, -87.81395164414246],\n                {}\n            ).addTo(map_ea53820548d44f30b0b45dbdf1e017bc);\n        \n    \n            var marker_a4e6770dfca1d8752e15614864d3d9dc = L.marker(\n                [41.97155143669217, -87.66095347964183],\n                {}\n            ).addTo(map_ea53820548d44f30b0b45dbdf1e017bc);\n        \n    \n            var marker_b559d3504826ca5a1650f25525e2dfe4 = L.marker(\n                [41.8837105009142, -87.6545650515331],\n                {}\n            ).addTo(map_ea53820548d44f30b0b45dbdf1e017bc);\n        \n    \n            var marker_563b9dc28f1d33690b0f2a29bb9d2864 = L.marker(\n                [41.69436481773882, -87.6181414059763],\n                {}\n            ).addTo(map_ea53820548d44f30b0b45dbdf1e017bc);\n        \n    \n            var marker_7354ece0243d0cb003477d791729081a = L.marker(\n                [41.71340053892868, -87.56573413765888],\n                {}\n            ).addTo(map_ea53820548d44f30b0b45dbdf1e017bc);\n        \n    \n            var marker_f456fd415cf6c8cd4b78775def078d69 = L.marker(\n                [41.807377846345496, -87.62263720177272],\n                {}\n            ).addTo(map_ea53820548d44f30b0b45dbdf1e017bc);\n        \n    \n            var marker_d2eed5392ce9a4124ff9db71d15cd15c = L.marker(\n                [41.90393142178499, -87.63660775555267],\n                {}\n            ).addTo(map_ea53820548d44f30b0b45dbdf1e017bc);\n        \n    \n            var marker_4b9be84893c4c72c14829f3f80beaa87 = L.marker(\n                [41.78028267185317, -87.60712228979007],\n                {}\n            ).addTo(map_ea53820548d44f30b0b45dbdf1e017bc);\n        \n    \n            var marker_17401f10a0c2ae0ae058684614f0be29 = L.marker(\n                [41.95312267684315, -87.77928489355646],\n                {}\n            ).addTo(map_ea53820548d44f30b0b45dbdf1e017bc);\n        \n    \n            var marker_e3788e24beaf0ee26ef123c51b09f671 = L.marker(\n                [41.720694885749005, -87.64304817213312],\n                {}\n            ).addTo(map_ea53820548d44f30b0b45dbdf1e017bc);\n        \n    \n            var marker_1e70509413d71f42f99d646947b9e0e3 = L.marker(\n                [41.968242773953044, -87.737968778247],\n                {}\n            ).addTo(map_ea53820548d44f30b0b45dbdf1e017bc);\n        \n    \n            var marker_67c79050328766b961cad4d5c8a25440 = L.marker(\n                [41.82824306445502, -87.6263495444489],\n                {}\n            ).addTo(map_ea53820548d44f30b0b45dbdf1e017bc);\n        \n    \n            var marker_1c0a1cd6b934e3c0be45cc2c7a08e5fa = L.marker(\n                [41.95832305807637, -87.65424744448335],\n                {}\n            ).addTo(map_ea53820548d44f30b0b45dbdf1e017bc);\n        \n    \n            var marker_344aed1a4a31742c3a7c9ca742c52254 = L.marker(\n                [41.79476901885989, -87.65502837616037],\n                {}\n            ).addTo(map_ea53820548d44f30b0b45dbdf1e017bc);\n        \n&lt;/script&gt;\n&lt;/html&gt;\" style=\"position:absolute;width:100%;height:100%;left:0;top:0;border:none !important;\" allowfullscreen webkitallowfullscreen mozallowfullscreen></iframe></div></div>"
     },
     "execution_count": 87,
     "metadata": {},
     "output_type": "execute_result"
    }
   ],
   "source": [
    "import folium\n",
    "map_osm = folium.Map(location=[41.878, -87.629], zoom_start=11)\n",
    "for library in libraries:\n",
    "    lt = library.y\n",
    "    lg = library.x\n",
    "    folium.Marker([lt, lg]).add_to(map_osm)\n",
    "map_osm"
   ],
   "metadata": {
    "collapsed": false,
    "ExecuteTime": {
     "start_time": "2024-08-01T19:38:17.106317Z",
     "end_time": "2024-08-01T19:38:17.211605Z"
    }
   }
  },
  {
   "cell_type": "code",
   "execution_count": 88,
   "outputs": [
    {
     "name": "stdout",
     "output_type": "stream",
     "text": [
      "NumPy version: 2.0.1\n"
     ]
    }
   ],
   "source": [
    "import numpy\n",
    "print(\"NumPy version:\", numpy.__version__)"
   ],
   "metadata": {
    "collapsed": false,
    "ExecuteTime": {
     "start_time": "2024-08-01T19:38:17.147459Z",
     "end_time": "2024-08-01T19:38:17.212358Z"
    }
   }
  },
  {
   "cell_type": "code",
   "execution_count": 89,
   "outputs": [
    {
     "ename": "AttributeError",
     "evalue": "`np.float_` was removed in the NumPy 2.0 release. Use `np.float64` instead.",
     "output_type": "error",
     "traceback": [
      "\u001B[0;31m---------------------------------------------------------------------------\u001B[0m",
      "\u001B[0;31mAttributeError\u001B[0m                            Traceback (most recent call last)",
      "Cell \u001B[0;32mIn[89], line 1\u001B[0m\n\u001B[0;32m----> 1\u001B[0m \u001B[38;5;28;01mfrom\u001B[39;00m \u001B[38;5;21;01mdocplex\u001B[39;00m\u001B[38;5;21;01m.\u001B[39;00m\u001B[38;5;21;01mmp\u001B[39;00m\u001B[38;5;21;01m.\u001B[39;00m\u001B[38;5;21;01menvironment\u001B[39;00m \u001B[38;5;28;01mimport\u001B[39;00m Environment\n\u001B[1;32m      2\u001B[0m env \u001B[38;5;241m=\u001B[39m Environment()\n\u001B[1;32m      3\u001B[0m env\u001B[38;5;241m.\u001B[39mprint_information()\n",
      "File \u001B[0;32m~/PycharmProjects/DataScienceIBM/venv/lib/python3.11/site-packages/docplex/mp/environment.py:31\u001B[0m\n\u001B[1;32m     28\u001B[0m \u001B[38;5;28;01mimport\u001B[39;00m \u001B[38;5;21;01msys\u001B[39;00m\n\u001B[1;32m     29\u001B[0m \u001B[38;5;28;01mimport\u001B[39;00m \u001B[38;5;21;01mwarnings\u001B[39;00m\n\u001B[0;32m---> 31\u001B[0m \u001B[38;5;28;01mfrom\u001B[39;00m \u001B[38;5;21;01mdocplex\u001B[39;00m\u001B[38;5;21;01m.\u001B[39;00m\u001B[38;5;21;01mmp\u001B[39;00m\u001B[38;5;21;01m.\u001B[39;00m\u001B[38;5;21;01merror_handler\u001B[39;00m \u001B[38;5;28;01mimport\u001B[39;00m docplex_fatal\n\u001B[1;32m     33\u001B[0m min_cplex_major \u001B[38;5;241m=\u001B[39m \u001B[38;5;241m12\u001B[39m\n\u001B[1;32m     34\u001B[0m min_cplex_minor \u001B[38;5;241m=\u001B[39m \u001B[38;5;241m8\u001B[39m\n",
      "File \u001B[0;32m~/PycharmProjects/DataScienceIBM/venv/lib/python3.11/site-packages/docplex/mp/error_handler.py:7\u001B[0m\n\u001B[1;32m      1\u001B[0m \u001B[38;5;66;03m# --------------------------------------------------------------------------\u001B[39;00m\n\u001B[1;32m      2\u001B[0m \u001B[38;5;66;03m# Source file provided under Apache License, Version 2.0, January 2004,\u001B[39;00m\n\u001B[1;32m      3\u001B[0m \u001B[38;5;66;03m# http://www.apache.org/licenses/\u001B[39;00m\n\u001B[1;32m      4\u001B[0m \u001B[38;5;66;03m# (c) Copyright IBM Corp. 2015, 2022\u001B[39;00m\n\u001B[1;32m      5\u001B[0m \u001B[38;5;66;03m# --------------------------------------------------------------------------\u001B[39;00m\n\u001B[0;32m----> 7\u001B[0m \u001B[38;5;28;01mfrom\u001B[39;00m \u001B[38;5;21;01mdocplex\u001B[39;00m\u001B[38;5;21;01m.\u001B[39;00m\u001B[38;5;21;01mmp\u001B[39;00m\u001B[38;5;21;01m.\u001B[39;00m\u001B[38;5;21;01mutils\u001B[39;00m \u001B[38;5;28;01mimport\u001B[39;00m DOcplexException, DOcplexLimitsExceeded, resolve_pattern, is_int, is_string\n\u001B[1;32m      9\u001B[0m \u001B[38;5;28;01mfrom\u001B[39;00m \u001B[38;5;21;01menum\u001B[39;00m \u001B[38;5;28;01mimport\u001B[39;00m Enum\n\u001B[1;32m     10\u001B[0m \u001B[38;5;28;01mimport\u001B[39;00m \u001B[38;5;21;01mos\u001B[39;00m\n",
      "File \u001B[0;32m~/PycharmProjects/DataScienceIBM/venv/lib/python3.11/site-packages/docplex/mp/utils.py:60\u001B[0m\n\u001B[1;32m     57\u001B[0m __int_types\u001B[38;5;241m.\u001B[39madd(numpy\u001B[38;5;241m.\u001B[39muint32)\n\u001B[1;32m     58\u001B[0m __float_types\u001B[38;5;241m.\u001B[39madd(numpy\u001B[38;5;241m.\u001B[39muint64)\n\u001B[0;32m---> 60\u001B[0m __float_types\u001B[38;5;241m.\u001B[39madd(\u001B[43mnumpy\u001B[49m\u001B[38;5;241;43m.\u001B[39;49m\u001B[43mfloat_\u001B[49m)\n\u001B[1;32m     61\u001B[0m __float_types\u001B[38;5;241m.\u001B[39madd(numpy\u001B[38;5;241m.\u001B[39mfloat16)\n\u001B[1;32m     62\u001B[0m __float_types\u001B[38;5;241m.\u001B[39madd(numpy\u001B[38;5;241m.\u001B[39mfloat32)\n",
      "File \u001B[0;32m~/PycharmProjects/DataScienceIBM/venv/lib/python3.11/site-packages/numpy/__init__.py:397\u001B[0m, in \u001B[0;36m__getattr__\u001B[0;34m(attr)\u001B[0m\n\u001B[1;32m    394\u001B[0m     \u001B[38;5;28;01mraise\u001B[39;00m \u001B[38;5;167;01mAttributeError\u001B[39;00m(__former_attrs__[attr])\n\u001B[1;32m    396\u001B[0m \u001B[38;5;28;01mif\u001B[39;00m attr \u001B[38;5;129;01min\u001B[39;00m __expired_attributes__:\n\u001B[0;32m--> 397\u001B[0m     \u001B[38;5;28;01mraise\u001B[39;00m \u001B[38;5;167;01mAttributeError\u001B[39;00m(\n\u001B[1;32m    398\u001B[0m         \u001B[38;5;124mf\u001B[39m\u001B[38;5;124m\"\u001B[39m\u001B[38;5;124m`np.\u001B[39m\u001B[38;5;132;01m{\u001B[39;00mattr\u001B[38;5;132;01m}\u001B[39;00m\u001B[38;5;124m` was removed in the NumPy 2.0 release. \u001B[39m\u001B[38;5;124m\"\u001B[39m\n\u001B[1;32m    399\u001B[0m         \u001B[38;5;124mf\u001B[39m\u001B[38;5;124m\"\u001B[39m\u001B[38;5;132;01m{\u001B[39;00m__expired_attributes__[attr]\u001B[38;5;132;01m}\u001B[39;00m\u001B[38;5;124m\"\u001B[39m\n\u001B[1;32m    400\u001B[0m     )\n\u001B[1;32m    402\u001B[0m \u001B[38;5;28;01mif\u001B[39;00m attr \u001B[38;5;241m==\u001B[39m \u001B[38;5;124m\"\u001B[39m\u001B[38;5;124mchararray\u001B[39m\u001B[38;5;124m\"\u001B[39m:\n\u001B[1;32m    403\u001B[0m     warnings\u001B[38;5;241m.\u001B[39mwarn(\n\u001B[1;32m    404\u001B[0m         \u001B[38;5;124m\"\u001B[39m\u001B[38;5;124m`np.chararray` is deprecated and will be removed from \u001B[39m\u001B[38;5;124m\"\u001B[39m\n\u001B[1;32m    405\u001B[0m         \u001B[38;5;124m\"\u001B[39m\u001B[38;5;124mthe main namespace in the future. Use an array with a string \u001B[39m\u001B[38;5;124m\"\u001B[39m\n\u001B[1;32m    406\u001B[0m         \u001B[38;5;124m\"\u001B[39m\u001B[38;5;124mor bytes dtype instead.\u001B[39m\u001B[38;5;124m\"\u001B[39m, \u001B[38;5;167;01mDeprecationWarning\u001B[39;00m, stacklevel\u001B[38;5;241m=\u001B[39m\u001B[38;5;241m2\u001B[39m)\n",
      "\u001B[0;31mAttributeError\u001B[0m: `np.float_` was removed in the NumPy 2.0 release. Use `np.float64` instead."
     ]
    }
   ],
   "source": [
    "from docplex.mp.environment import Environment\n",
    "env = Environment()\n",
    "env.print_information()"
   ],
   "metadata": {
    "collapsed": false
   }
  }
 ],
 "metadata": {
  "kernelspec": {
   "display_name": "Python 3",
   "language": "python",
   "name": "python3"
  },
  "language_info": {
   "codemirror_mode": {
    "name": "ipython",
    "version": 2
   },
   "file_extension": ".py",
   "mimetype": "text/x-python",
   "name": "python",
   "nbconvert_exporter": "python",
   "pygments_lexer": "ipython2",
   "version": "2.7.6"
  }
 },
 "nbformat": 4,
 "nbformat_minor": 0
}
