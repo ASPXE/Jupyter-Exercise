{
 "cells": [
  {
   "cell_type": "markdown",
   "source": [
    "# Hi, papus"
   ],
   "metadata": {
    "collapsed": false
   }
  },
  {
   "cell_type": "markdown",
   "source": [
    "In this Jupyter notebook, we will complete the exercise assigned to us on Coursera.\n"
   ],
   "metadata": {
    "collapsed": false
   }
  },
  {
   "cell_type": "markdown",
   "source": [
    "## Languages in Data Science\n",
    "\n",
    "In Data Science, the main languages are the following:\n",
    "\n",
    "- Python\n",
    "- R\n",
    "\n",
    "However, most existing programming languages can perform the same functions. The community involved in Data Science is the one that has chosen these languages as their preferred ones.\n"
   ],
   "metadata": {
    "collapsed": false
   }
  },
  {
   "cell_type": "markdown",
   "source": [
    "## Data Science Libraries\n",
    "\n",
    "The following Python libraries are widely used in Data Science:\n",
    "\n",
    "- **Pandas**: A library that facilitates manipulating files containing the data being worked with.\n",
    "- **Matplotlib**: Primarily used for creating plots and visualizations.\n",
    "- **NumPy**: Focuses on working with arrays, and integrates with other libraries commonly used in Data Science.\n",
    "- **Scikit-learn**: Includes algorithms for supervised and unsupervised learning, data preprocessing, and model evaluation.\n",
    "- **TensorFlow**: Mainly used for machine learning and deep learning. One of its advantages is that it can execute code on either CPU or GPU, with the choice depending on the type of model being trained.\n",
    "- **Keras**: Built on TensorFlow, it focuses on constructing neural networks and training ML models.\n",
    "- **PyTorch**: Similar to Keras, it is used for creating neural networks. Its difference from Keras is that it allows dynamic execution and is more commonly used in research environments.\n"
   ],
   "metadata": {
    "collapsed": false
   }
  },
  {
   "cell_type": "markdown",
   "source": [
    "## Tools for Data Science\n",
    "\n",
    "| Tool              | Type                     | Description                                              |\n",
    "|-------------------|--------------------------|----------------------------------------------------------|\n",
    "| **Python**        | Programming Language     | General-purpose language widely used in data science.   |\n",
    "| **R**             | Programming Language     | Language specialized in statistical analysis and visualization. |\n",
    "| **Jupyter Notebook** | Development Environment | Interactive tool for writing and executing code in various languages. |\n",
    "| **Pandas**        | Python Library           | Library for data manipulation and analysis in Python.    |\n",
    "| **NumPy**         | Python Library           | Library for numerical calculations and array operations. |\n",
    "| **Scikit-learn**  | Python Library           | Library for machine learning and predictive modeling.   |\n",
    "| **TensorFlow**    | Python Library           | Library for developing and training deep learning models. |\n",
    "| **Keras**         | Python Library           | High-level API for deep neural networks, now integrated into TensorFlow. |\n",
    "| **PyTorch**       | Python Library           | Library for deep learning with a focus on flexibility and dynamic execution. |\n",
    "| **Tableau**       | Visualization Tool       | Tool for creating interactive visualizations and dashboards. |\n",
    "| **Power BI**      | Visualization Tool       | Microsoft tool for creating interactive reports and visualizations. |\n"
   ],
   "metadata": {
    "collapsed": false
   }
  },
  {
   "cell_type": "markdown",
   "source": [
    "## Arithmetic Expressions\n",
    "\n",
    "In Jupyter notebooks, we can perform operations and visualize their results in two ways. The first way is by directly executing the operation and seeing the result, for example:\n",
    "\n",
    "- Input: `1+1` Output: `2`\n",
    "\n",
    "Alternatively, we can also store the result of the arithmetic operation in a variable:\n",
    "\n",
    "- `result = 1+1`\n",
    "- `print(result)`\n"
   ],
   "metadata": {
    "collapsed": false
   }
  },
  {
   "cell_type": "code",
   "execution_count": 3,
   "metadata": {
    "collapsed": true,
    "ExecuteTime": {
     "start_time": "2024-08-07T16:44:08.078031Z",
     "end_time": "2024-08-07T16:44:08.120688Z"
    }
   },
   "outputs": [
    {
     "name": "stdout",
     "output_type": "stream",
     "text": [
      "2\n",
      "4\n"
     ]
    }
   ],
   "source": [
    "suma = 1+1\n",
    "multi = 2*2\n",
    "\n",
    "print(f'{suma}\\n{multi}')"
   ]
  },
  {
   "cell_type": "code",
   "execution_count": 6,
   "outputs": [
    {
     "name": "stdout",
     "output_type": "stream",
     "text": [
      "150 minutes equals 2.5 hours\n"
     ]
    }
   ],
   "source": [
    "# Minutes to hours\n",
    "\n",
    "minutos = 150\n",
    "horas = minutos / 60\n",
    "print(f\"{minutos} minutes equals {horas} hours\")"
   ],
   "metadata": {
    "collapsed": false,
    "ExecuteTime": {
     "start_time": "2024-08-07T16:49:32.738098Z",
     "end_time": "2024-08-07T16:49:32.753855Z"
    }
   }
  },
  {
   "cell_type": "code",
   "execution_count": 7,
   "outputs": [
    {
     "name": "stdout",
     "output_type": "stream",
     "text": [
      "Project Objectives:\n",
      "1. Learn the fundamentals of Python.\n",
      "2. Become familiar with data analysis using Pandas.\n",
      "3. Acquire skills in data visualization with Matplotlib and Seaborn.\n",
      "4. Implement machine learning models using scikit-learn.\n",
      "5. Explore advanced deep learning techniques with TensorFlow or PyTorch.\n",
      "6. Develop and debug data science applications using Jupyter Notebooks.\n",
      "7. Learn to work with databases and perform SQL queries.\n",
      "8. Collaborate on data science projects using Git and GitHub.\n"
     ]
    }
   ],
   "source": [
    "# Define a list of objectives\n",
    "objectives = [\n",
    "    \"1. Learn the fundamentals of Python.\",\n",
    "    \"2. Become familiar with data analysis using Pandas.\",\n",
    "    \"3. Acquire skills in data visualization with Matplotlib and Seaborn.\",\n",
    "    \"4. Implement machine learning models using scikit-learn.\",\n",
    "    \"5. Explore advanced deep learning techniques with TensorFlow or PyTorch.\",\n",
    "    \"6. Develop and debug data science applications using Jupyter Notebooks.\",\n",
    "    \"7. Learn to work with databases and perform SQL queries.\",\n",
    "    \"8. Collaborate on data science projects using Git and GitHub.\"\n",
    "]\n",
    "\n",
    "# Print the list of objectives\n",
    "print(\"Project Objectives:\")\n",
    "for objective in objectives:\n",
    "    print(objective)\n"
   ],
   "metadata": {
    "collapsed": false,
    "ExecuteTime": {
     "start_time": "2024-08-07T16:50:01.168953Z",
     "end_time": "2024-08-07T16:50:01.213278Z"
    }
   }
  },
  {
   "cell_type": "markdown",
   "source": [
    "## Autor\n",
    "\n",
    "The author of this notebook is: **ASPXE**"
   ],
   "metadata": {
    "collapsed": false
   }
  },
  {
   "cell_type": "code",
   "execution_count": 7,
   "outputs": [],
   "source": [],
   "metadata": {
    "collapsed": false,
    "ExecuteTime": {
     "start_time": "2024-08-07T16:50:18.298323Z",
     "end_time": "2024-08-07T16:50:18.317796Z"
    }
   }
  },
  {
   "cell_type": "code",
   "execution_count": null,
   "outputs": [],
   "source": [],
   "metadata": {
    "collapsed": false
   }
  }
 ],
 "metadata": {
  "kernelspec": {
   "display_name": "Python 3",
   "language": "python",
   "name": "python3"
  },
  "language_info": {
   "codemirror_mode": {
    "name": "ipython",
    "version": 2
   },
   "file_extension": ".py",
   "mimetype": "text/x-python",
   "name": "python",
   "nbconvert_exporter": "python",
   "pygments_lexer": "ipython2",
   "version": "2.7.6"
  }
 },
 "nbformat": 4,
 "nbformat_minor": 0
}
